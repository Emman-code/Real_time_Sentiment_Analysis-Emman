{
  "nbformat": 4,
  "nbformat_minor": 0,
  "metadata": {
    "colab": {
      "provenance": [],
      "gpuType": "T4"
    },
    "kernelspec": {
      "name": "python3",
      "display_name": "Python 3"
    },
    "language_info": {
      "name": "python"
    },
    "accelerator": "GPU"
  },
  "cells": [
    {
      "cell_type": "markdown",
      "source": [
        "**Project Title: Real-Time Social Media Sentiment Analyzer **\n",
        "\n",
        "Domain: Machine Learning\n",
        "\n",
        "Technology Used: Python, VADER Sentiment Analysis\n",
        "\n",
        "Dataset: Sentiment140\n",
        "\n",
        "Submitted By: Team DragonBoosters:\n",
        "\n",
        "BharathiNesan, Jose, Aravinth, Emmanuel Joshua                                  \n",
        "(Students of SNSCT 1st year AI&Ml)\n",
        "\n",
        "Date: 15/03/2025"
      ],
      "metadata": {
        "id": "pChtVnyVid_9"
      }
    },
    {
      "cell_type": "code",
      "source": [
        "import re\n",
        "import nltk\n",
        "import pandas as pd\n",
        "from nltk.sentiment import SentimentIntensityAnalyzer\n",
        "import matplotlib.pyplot as plt\n",
        "import seaborn as sns\n"
      ],
      "metadata": {
        "id": "P-cpFr3VN2wv"
      },
      "execution_count": 10,
      "outputs": []
    },
    {
      "cell_type": "code",
      "source": [
        "nltk.download('vader_lexicon')"
      ],
      "metadata": {
        "colab": {
          "base_uri": "https://localhost:8080/"
        },
        "id": "g3xwLOHkN6x-",
        "outputId": "0a9c340a-bc63-4e4d-c966-3d3ca46c5d21"
      },
      "execution_count": 4,
      "outputs": [
        {
          "output_type": "stream",
          "name": "stderr",
          "text": [
            "[nltk_data] Downloading package vader_lexicon to /root/nltk_data...\n"
          ]
        },
        {
          "output_type": "execute_result",
          "data": {
            "text/plain": [
              "True"
            ]
          },
          "metadata": {},
          "execution_count": 4
        }
      ]
    },
    {
      "cell_type": "code",
      "source": [
        "sia = SentimentIntensityAnalyzer()"
      ],
      "metadata": {
        "id": "vEnxQWTsN9PS"
      },
      "execution_count": 5,
      "outputs": []
    },
    {
      "cell_type": "code",
      "source": [
        "def clean_text(text):\n",
        "    text = text.lower()  # Convert to lowercase\n",
        "    text = re.sub(r'http\\S+|www\\S+', '', text)  # Remove URLs\n",
        "    text = re.sub(r'@[A-Za-z0-9_]+', '', text)  # Remove @mentions\n",
        "    text = re.sub(r'#[A-Za-z0-9_]+', '', text)  # Remove hashtags\n",
        "    text = re.sub(r'[^a-zA-Z0-9\\s]', '', text)  # Remove special characters\n",
        "    text = re.sub(r'\\s+', ' ', text).strip()  # Remove extra spaces\n",
        "    return text"
      ],
      "metadata": {
        "id": "TV4rogqzOB5G"
      },
      "execution_count": 6,
      "outputs": []
    },
    {
      "cell_type": "code",
      "source": [
        "def analyze_sentiment(comment):\n",
        "    score = sia.polarity_scores(comment)[\"compound\"]\n",
        "    if score >= 0.05:\n",
        "        return \"Positive 😊\"\n",
        "    elif score <= -0.05:\n",
        "        return \"Negative 😡\"\n",
        "    else:\n",
        "        return \"Neutral 😐\""
      ],
      "metadata": {
        "id": "fuV2gDtnOFM0"
      },
      "execution_count": 7,
      "outputs": []
    },
    {
      "cell_type": "code",
      "source": [
        "df = pd.read_csv(\"/content/drive/MyDrive/DRAGNON_Boosters/training.1600000.processed.noemoticon.csv\", encoding='latin-1', header=None)\n",
        "df.columns = [\"target\", \"id\", \"date\", \"flag\", \"user\", \"text\"]"
      ],
      "metadata": {
        "id": "QB8KnnHKOIUn"
      },
      "execution_count": 8,
      "outputs": []
    },
    {
      "cell_type": "code",
      "source": [
        "df[\"cleaned_text\"] = df[\"text\"].apply(clean_text)\n",
        "\n",
        "\n",
        "df[\"predicted_sentiment\"] = df[\"cleaned_text\"].apply(analyze_sentiment)\n",
        "\n",
        "print(df[[\"cleaned_text\", \"predicted_sentiment\"]].head())"
      ],
      "metadata": {
        "colab": {
          "base_uri": "https://localhost:8080/"
        },
        "id": "TzqZDrtnOrNx",
        "outputId": "5136d78a-325b-49dd-badb-196f8a643c91"
      },
      "execution_count": 13,
      "outputs": [
        {
          "output_type": "stream",
          "name": "stdout",
          "text": [
            "                                        cleaned_text predicted_sentiment\n",
            "0  a thats a bummer you shoulda got david carr of...          Negative 😡\n",
            "1  is upset that he cant update his facebook by t...          Negative 😡\n",
            "2  i dived many times for the ball managed to sav...          Positive 😊\n",
            "3     my whole body feels itchy and like its on fire          Negative 😡\n",
            "4  no its not behaving at all im mad why am i her...          Negative 😡\n"
          ]
        }
      ]
    },
    {
      "cell_type": "code",
      "source": [
        "while True:\n",
        "    user_input = input(\"\\nEnter a comment (or type 'exit' to stop): \")\n",
        "    if user_input.lower() == \"exit\":\n",
        "        print(\"Exiting Sentiment Analyzer...👋\")\n",
        "        break\n",
        "    cleaned_input = clean_text(user_input)\n",
        "    sentiment = analyze_sentiment(cleaned_input)\n",
        "    print(f\"Predicted Sentiment: {sentiment}\")"
      ],
      "metadata": {
        "colab": {
          "base_uri": "https://localhost:8080/"
        },
        "id": "OeYlIsvhPubO",
        "outputId": "359bddb0-df51-4e6b-b60b-93939774392c"
      },
      "execution_count": 8,
      "outputs": [
        {
          "output_type": "stream",
          "name": "stdout",
          "text": [
            "\n",
            "Enter a comment (or type 'exit' to stop): God is good all the time!\n",
            "Predicted Sentiment: Positive 😊\n",
            "\n",
            "Enter a comment (or type 'exit' to stop): nesan is a good boy\n",
            "Predicted Sentiment: Positive 😊\n",
            "\n",
            "Enter a comment (or type 'exit' to stop): jose is a bad boy\n",
            "Predicted Sentiment: Negative 😡\n",
            "\n",
            "Enter a comment (or type 'exit' to stop): exit\n",
            "Exiting Sentiment Analyzer...👋\n"
          ]
        }
      ]
    }
  ]
}